{
 "cells": [
  {
   "cell_type": "markdown",
   "metadata": {},
   "source": [
    "## <center>Теоретическая часть<a class=\"anchor\" id=\"theory\"></a><center>"
   ]
  },
  {
   "cell_type": "markdown",
   "metadata": {
    "id": "oOcLKigsdfJg"
   },
   "source": [
    "Большая размерность данных (под ней понимается размерность пространства признаков, то есть их количество) может серьезно усложнить задачу анализа таких данных и даже стать причиной некорректной работы некоторых алгоритмов. Кроме того, часто в исходных данных могут присутствовать лишние признаки, никак не связанные с целевой переменной. Поэтому часто встает задача понижения количества признаков, оставляя при этом самые значимые (наиболее сильно влияющие на значение целевого параметра) с отсечением менее значимых (наиболее слабо коррелирующих со значением целевого параметра) или с формированием новых признаков на основе старых. То есть ставится задача перехода от пространства большей размерности к пространству меньшей размерности с сохранением максимального количества полезной информации."
   ]
  },
  {
   "cell_type": "markdown",
   "metadata": {
    "id": "_Pa5-7u-dfJh"
   },
   "source": [
    "## Алгоритмы снижения размерности <a class='anchor' id='reduce'>"
   ]
  },
  {
   "cell_type": "markdown",
   "metadata": {
    "id": "zspAp10fdfJi"
   },
   "source": [
    "Алгоритмы снижения размерности пространства признаков делятся на две группы - **отбор признаков** (то есть отбрасывание наименее важных признаков) и **понижение размерности** путем формирования новых признаков на основе старых."
   ]
  },
  {
   "cell_type": "markdown",
   "metadata": {
    "id": "Lmvx3YA5dfJj"
   },
   "source": [
    "## Отбор признаков <a class='anchor' id='selection'>"
   ]
  },
  {
   "cell_type": "markdown",
   "metadata": {},
   "source": [
    "### Одномерный отбор признаков <a class='anchor' id='one_selection'>"
   ]
  },
  {
   "cell_type": "markdown",
   "metadata": {
    "id": "isLulqvJdfJk"
   },
   "source": [
    "Самым простым и примитивным методом отбора является _одномерный отбор признаков_. Он заключается в оценке предсказательной силы каждого признака, то есть его информативности - насколько он коррелирует с целевой переменной. Затем отбираются либо заданное количество $k$ признаков, либо те признаки, информативность которых выше некоторого порога."
   ]
  },
  {
   "cell_type": "markdown",
   "metadata": {
    "id": "U547aIwTdfJl"
   },
   "source": [
    "Оценка предсказательной силы признака (или степени связи этого признака и целевой переменной) может проводиться разными методами, например:\n",
    "\n",
    "- в случае регрессии - _корреляция_ $$R_{j} = \\frac{\\sum_{i=1}^{l}(x_{ij} - \\bar{x}_{j})(y_{i} - \\bar{y})}{\\sqrt{\\sum_{i=1}^{l}(x_{ij} - \\bar{x}_{j})^{2}\\sum_{i=1}^{l}(y_{i} - \\bar{y})^{2}}},$$ где $\\bar{x_{j}}$ и $\\bar{y}$ - среднее значение $j$-го признака и целевой переменной, соответственно. Чем больше по модулю корреляция ($\\pm 1$), тем информативнее признак. Следует заметить, что этот метод учитывает только линейную связь между признаком и целевой переменной."
   ]
  },
  {
   "cell_type": "code",
   "execution_count": 1,
   "metadata": {},
   "outputs": [],
   "source": [
    "import numpy as np\n",
    "from sklearn.datasets import make_regression\n",
    "\n",
    "np.random.seed(9)\n",
    "X_rgr, y_rgr = make_regression(n_samples=1000, n_features=2, n_informative=1, n_targets=1)\n",
    "\n",
    "#display(X_rgr, y_rgr)"
   ]
  },
  {
   "cell_type": "markdown",
   "metadata": {},
   "source": [
    "$$R_{j} = \\frac{\\sum_{i=1}^{l}(x_{ij} - \\bar{x}_{j})(y_{i} - \\bar{y})}{\\sqrt{\\sum_{i=1}^{l}(x_{ij} - \\bar{x}_{j})^{2}\\sum_{i=1}^{l}(y_{i} - \\bar{y})^{2}}}$$"
   ]
  },
  {
   "cell_type": "code",
   "execution_count": 2,
   "metadata": {},
   "outputs": [
    {
     "name": "stdout",
     "output_type": "stream",
     "text": [
      "Корреляция 0 признака с целевой переменной 0.024507486889396298\n",
      "Корреляция 1 признака с целевой переменной 0.9999999999999999\n"
     ]
    }
   ],
   "source": [
    "def corr(x, y):\n",
    "    mean_x = x.mean()\n",
    "    mean_y = y.mean()\n",
    "    corr = np.sum((x - mean_x) * (y - mean_y)) / np.sqrt(np.sum((x - mean_x)**2) * np.sum((y - mean_y) ** 2))\n",
    "    return corr\n",
    "\n",
    "\n",
    "print(f'Корреляция 0 признака с целевой переменной {corr(X_rgr[:, 0], y_rgr)}')\n",
    "print(f'Корреляция 1 признака с целевой переменной {corr(X_rgr[:, 1], y_rgr)}')"
   ]
  },
  {
   "cell_type": "code",
   "execution_count": 3,
   "metadata": {},
   "outputs": [
    {
     "data": {
      "text/plain": "array([[1.        , 0.02450749],\n       [0.02450749, 1.        ]])"
     },
     "execution_count": 3,
     "metadata": {},
     "output_type": "execute_result"
    }
   ],
   "source": [
    "np.corrcoef(X_rgr[:, 0], y_rgr)"
   ]
  },
  {
   "cell_type": "code",
   "execution_count": 4,
   "metadata": {},
   "outputs": [
    {
     "name": "stdout",
     "output_type": "stream",
     "text": [
      "Корреляция 0 признака с целевой переменной 0.0245074868893963\n",
      "Корреляция 1 признака с целевой переменной 1.0\n"
     ]
    }
   ],
   "source": [
    "print(f'Корреляция 0 признака с целевой переменной {np.corrcoef(X_rgr[:, 0], y_rgr)[0][1]}')\n",
    "print(f'Корреляция 1 признака с целевой переменной {np.corrcoef(X_rgr[:, 1], y_rgr)[0][1]}')"
   ]
  },
  {
   "cell_type": "markdown",
   "metadata": {},
   "source": [
    "- в случае задачи классификации - *взаимная информация (mutual information)*, моделирующая корреляцию между признаками и классами. **Желательно, чтобы признак был тоже дискретным.** Она использует в расчете вероятность того, что одновременно значение $j$-го признака $x_{ij}$ равно числу $v$ и значение целевой переменной $y_{i}=k$, или, другими словами, долю таких объектов от общего количества объектов в выборке $P(x=v,y=k)$. Тогда взаимная информация будет находиться как $$MI_{j}=\\sum_{v \\in X}\\sum_{k \\in Y}P(x=v,y=k)\\text{log}\\frac{P(x=v,y=k)}{P(x=v)P(y=k)}.$$ Здесь $P(x=v)$ и $P(y=k)$ - доли объектов, на которых значение признака равно $v$ и значение целевой переменной равно $k$, соответственно. Если признак и целевая переменная независимы, то взаимная информация обращается в ноль. В отличие от предыдущего метода, этот метод позволяет находять произвольные зависимости (в т.ч. нелинейные) в пространстве произвольной размерности.\n",
    "\n",
    "$$P(x=v,y=k) = \\frac{1}{n}\\sum_{i=0}^n{[x_{ij}= v][y_i = k]}$$\n",
    "$$P(x=v) = \\frac{1}{n}\\sum_{i=0}^n{[x_{ij}= v]}$$\n",
    "$$P(y=k) = \\frac{1}{n}\\sum_{i=0}^n{[y_{j} = k]}$$ "
   ]
  },
  {
   "cell_type": "code",
   "execution_count": 5,
   "metadata": {},
   "outputs": [],
   "source": [
    "from sklearn.metrics import mutual_info_score\n",
    "from sklearn.metrics.cluster import contingency_matrix\n",
    "import pandas as pd"
   ]
  },
  {
   "cell_type": "code",
   "execution_count": 6,
   "metadata": {
    "scrolled": true
   },
   "outputs": [],
   "source": [
    "import numpy as np\n",
    "from sklearn.datasets import make_classification\n",
    "\n",
    "np.random.seed(9)\n",
    "X_cls, y_cls = make_classification(n_samples=1000, n_features=2, n_informative=1, n_clusters_per_class=1,\n",
    "                                   n_redundant=1, n_classes=2)\n",
    "X_cls[:, 1] = np.random.randn(X_cls.shape[0])\n",
    "#display(X_cls, y_cls)"
   ]
  },
  {
   "cell_type": "code",
   "execution_count": 7,
   "metadata": {},
   "outputs": [
    {
     "data": {
      "text/plain": "1000"
     },
     "execution_count": 7,
     "metadata": {},
     "output_type": "execute_result"
    }
   ],
   "source": [
    "len(np.unique(X_cls[:, 1]))"
   ]
  },
  {
   "cell_type": "code",
   "execution_count": 8,
   "metadata": {},
   "outputs": [],
   "source": [
    "# X_cls"
   ]
  },
  {
   "cell_type": "code",
   "execution_count": 9,
   "metadata": {},
   "outputs": [],
   "source": [
    "X_cls[:, 0] = pd.cut(X_cls[:, 0], 10, labels=False)\n",
    "X_cls[:, 1] = pd.cut(X_cls[:, 1], 10, labels=False)"
   ]
  },
  {
   "cell_type": "code",
   "execution_count": 10,
   "metadata": {},
   "outputs": [
    {
     "data": {
      "text/plain": "array([0., 1., 2., 3., 4., 5., 6., 7., 8., 9.])"
     },
     "execution_count": 10,
     "metadata": {},
     "output_type": "execute_result"
    }
   ],
   "source": [
    "np.unique(X_cls[:, 0])"
   ]
  },
  {
   "cell_type": "code",
   "execution_count": 11,
   "metadata": {},
   "outputs": [
    {
     "data": {
      "text/plain": "array([[ 13,  67, 149, 159,  86,  24,   3,   0,   0,   0],\n       [  0,   0,   2,   9,  65, 115, 143, 112,  41,  12]], dtype=int64)"
     },
     "execution_count": 11,
     "metadata": {},
     "output_type": "execute_result"
    }
   ],
   "source": [
    "contingency_matrix(y_cls, X_cls[:, 0])"
   ]
  },
  {
   "cell_type": "code",
   "execution_count": 12,
   "metadata": {},
   "outputs": [
    {
     "data": {
      "text/plain": "         0                                       \n1      0.0 1.0 2.0 3.0  4.0  5.0  6.0 7.0 8.0 9.0\ntarget                                           \n0        1   3  13  51  100  152  112  42  21   6\n1        1   3  11  61   94  138  117  54  17   3",
      "text/html": "<div>\n<style scoped>\n    .dataframe tbody tr th:only-of-type {\n        vertical-align: middle;\n    }\n\n    .dataframe tbody tr th {\n        vertical-align: top;\n    }\n\n    .dataframe thead tr th {\n        text-align: left;\n    }\n\n    .dataframe thead tr:last-of-type th {\n        text-align: right;\n    }\n</style>\n<table border=\"1\" class=\"dataframe\">\n  <thead>\n    <tr>\n      <th></th>\n      <th colspan=\"10\" halign=\"left\">0</th>\n    </tr>\n    <tr>\n      <th>1</th>\n      <th>0.0</th>\n      <th>1.0</th>\n      <th>2.0</th>\n      <th>3.0</th>\n      <th>4.0</th>\n      <th>5.0</th>\n      <th>6.0</th>\n      <th>7.0</th>\n      <th>8.0</th>\n      <th>9.0</th>\n    </tr>\n    <tr>\n      <th>target</th>\n      <th></th>\n      <th></th>\n      <th></th>\n      <th></th>\n      <th></th>\n      <th></th>\n      <th></th>\n      <th></th>\n      <th></th>\n      <th></th>\n    </tr>\n  </thead>\n  <tbody>\n    <tr>\n      <th>0</th>\n      <td>1</td>\n      <td>3</td>\n      <td>13</td>\n      <td>51</td>\n      <td>100</td>\n      <td>152</td>\n      <td>112</td>\n      <td>42</td>\n      <td>21</td>\n      <td>6</td>\n    </tr>\n    <tr>\n      <th>1</th>\n      <td>1</td>\n      <td>3</td>\n      <td>11</td>\n      <td>61</td>\n      <td>94</td>\n      <td>138</td>\n      <td>117</td>\n      <td>54</td>\n      <td>17</td>\n      <td>3</td>\n    </tr>\n  </tbody>\n</table>\n</div>"
     },
     "execution_count": 12,
     "metadata": {},
     "output_type": "execute_result"
    }
   ],
   "source": [
    "df = pd.DataFrame(X_cls)\n",
    "df['target'] = y_cls\n",
    "pd.pivot_table(df, index='target', columns=1, aggfunc='count')"
   ]
  },
  {
   "cell_type": "code",
   "execution_count": 13,
   "metadata": {},
   "outputs": [
    {
     "data": {
      "text/plain": "       0    1  target\n276  2.0  5.0       1\n729  2.0  5.0       1",
      "text/html": "<div>\n<style scoped>\n    .dataframe tbody tr th:only-of-type {\n        vertical-align: middle;\n    }\n\n    .dataframe tbody tr th {\n        vertical-align: top;\n    }\n\n    .dataframe thead th {\n        text-align: right;\n    }\n</style>\n<table border=\"1\" class=\"dataframe\">\n  <thead>\n    <tr style=\"text-align: right;\">\n      <th></th>\n      <th>0</th>\n      <th>1</th>\n      <th>target</th>\n    </tr>\n  </thead>\n  <tbody>\n    <tr>\n      <th>276</th>\n      <td>2.0</td>\n      <td>5.0</td>\n      <td>1</td>\n    </tr>\n    <tr>\n      <th>729</th>\n      <td>2.0</td>\n      <td>5.0</td>\n      <td>1</td>\n    </tr>\n  </tbody>\n</table>\n</div>"
     },
     "execution_count": 13,
     "metadata": {},
     "output_type": "execute_result"
    }
   ],
   "source": [
    "df[(df[0] == 2) & (df['target'] == 1)]"
   ]
  },
  {
   "cell_type": "code",
   "execution_count": 14,
   "metadata": {},
   "outputs": [],
   "source": [
    "# pd.Series(X_cls[:, 0][y_cls == 0]).value_counts()"
   ]
  },
  {
   "cell_type": "markdown",
   "metadata": {},
   "source": [
    "$$MI_{j}=\\sum_{v \\in X}\\sum_{k \\in Y}P(x=v,y=k)\\text{log}\\frac{P(x=v,y=k)}{P(x=v)P(y=k)}.$$"
   ]
  },
  {
   "cell_type": "code",
   "execution_count": 15,
   "metadata": {},
   "outputs": [
    {
     "data": {
      "text/plain": "array([[ 13,  67, 149, 159,  86,  24,   3,   0,   0,   0],\n       [  0,   0,   2,   9,  65, 115, 143, 112,  41,  12]], dtype=int64)"
     },
     "execution_count": 15,
     "metadata": {},
     "output_type": "execute_result"
    }
   ],
   "source": [
    "contingency_matrix(y_cls, X_cls[:, 0])"
   ]
  },
  {
   "cell_type": "code",
   "execution_count": 16,
   "metadata": {},
   "outputs": [],
   "source": [
    "def get_mi(x, y):\n",
    "    mi = 0\n",
    "    cm = contingency_matrix(y, x)\n",
    "    \n",
    "    for i in range(cm.shape[0]):\n",
    "        for j in range(cm.shape[1]):\n",
    "            size = np.sum(cm)\n",
    "            p_x_y = cm[i][j] / size\n",
    "            p_x = np.sum(cm[:, j]) / size\n",
    "            p_y = np.sum(cm[i]) / size\n",
    "\n",
    "            if p_x_y == 0:\n",
    "                continue\n",
    "            mi += p_x_y * np.log(p_x_y / (p_x * p_y))\n",
    "    return mi"
   ]
  },
  {
   "cell_type": "code",
   "execution_count": 17,
   "metadata": {},
   "outputs": [
    {
     "name": "stdout",
     "output_type": "stream",
     "text": [
      "Взаимная информация 0 признака с целевой переменной 0.4656395068265237\n",
      "Взаимная информация 1 признака с целевой переменной 0.0024864832627259493\n"
     ]
    }
   ],
   "source": [
    "print(f'Взаимная информация 0 признака с целевой переменной {get_mi(X_cls[:, 0], y_cls)}')\n",
    "print(f'Взаимная информация 1 признака с целевой переменной {get_mi(X_cls[:, 1], y_cls)}')"
   ]
  },
  {
   "cell_type": "code",
   "execution_count": 18,
   "metadata": {},
   "outputs": [
    {
     "name": "stdout",
     "output_type": "stream",
     "text": [
      "Взаимная информация 0 признака с целевой переменной 0.4656395068265234\n",
      "Взаимная информация 1 признака с целевой переменной 0.0024864832627257364\n"
     ]
    }
   ],
   "source": [
    "print(f'Взаимная информация 0 признака с целевой переменной {mutual_info_score(X_cls[:, 0], y_cls)}')\n",
    "print(f'Взаимная информация 1 признака с целевой переменной {mutual_info_score(X_cls[:, 1], y_cls)}')"
   ]
  },
  {
   "cell_type": "markdown",
   "metadata": {},
   "source": [
    "Такие методы позволяют оценить важность исключительно каждого признака отдельно, без учета влияния комбинаций признаков на целевую переменную, поэтому они и называются одномерными. На практике зачастую признаки влияют именно в совокупности, и по отдельности могут ошибочно быть расценены как некоррелирующие с целевой переменной, поэтому одномерные методы отбора не являются оптимальным методом в большинстве случаев.\n",
    "\n",
    "У одномерного отбора признаков есть проблема - они не учитывают взаимосвязь признаков, зависимость целевой переменной от сложной комбинации признаков.\n",
    "<img src='images/problem_1dim.png' width=400>"
   ]
  },
  {
   "cell_type": "markdown",
   "metadata": {},
   "source": [
    "### Переборные методы <a class='anchor' id='iterate'>"
   ]
  },
  {
   "cell_type": "markdown",
   "metadata": {
    "id": "DV5E5PnadfJl"
   },
   "source": [
    "Отдельной группой методов можно назвать так называемые *переборные методы*, которые дискретно оценивают качество модели, обученной на различных подмножествах признаков. При этом происходит полный перебор всех возможных вариантов. Обычно такие алгоритмы делятся на _жадные (greedy)_ и *нежадные (non-greedy)*."
   ]
  },
  {
   "cell_type": "markdown",
   "metadata": {
    "id": "EOjQFkTgdfJm"
   },
   "source": [
    "Жадность алгоритмов заключаются в том, что если один из признаков включен в подмножество (или исключен в случае исключающего метода), в следующих итерациях поиска он уже не учитывается, так что алгоритм работает на меньшем объеме данных. Известные алгоритмы этого типа - _жадное включение_ и _жадное исключение_. В случае жадного включения на первой итерации аналогично одномерному отбору признаков находится признак, обладающий наибольшей предсказательной силой и добавляется в формирующуееся подмножество $\\{i_{1}\\}$. Далее происходит перебор оставшихся признаков с попеременным добавлением каждого из них в подмножество к первому и оценкой качества получаемой модели, обученной на подмножестве из этих двух признаков $\\{i_{1}, i_{2}\\}$. В итоге в подмножестве остается тот признак, при добавлении которого получается наилучшее качество. Далее эта процедура повторяется до момента, пока ошибка получаемой модели уменьшается. На каждой итерации в подмножество добавляется один признак, максимально улучшающий работу модели. Если на какой-то итерации при добавлении признаков ошибка не уменьшается, процесс останавливается.\n",
    "\n",
    "Плюсом такого алгоритма является относительная быстрота и возможность учета некоторых взаимодействий между признаками (как раз то, чего лишен одномерный отбор). Минусом же можно назвать вероятность застрять в локальном минимуме ошибки, если такой есть. В случае же когда есть единственный глобальный минимум, алгоритм найдет оптимальное решение. Добавив признак однажды, мы уже не сможем его убрать из обучения."
   ]
  },
  {
   "cell_type": "markdown",
   "metadata": {},
   "source": [
    "**Пример жадного алгоритма:**\n",
    "\n",
    "Есть 3 признака ($x_1, x_2, x_3$)<br>\n",
    "Будем обучать алгоритм:\n",
    "1. Находим лучший признак: обучаемся на $x_1$; $x_2$; $x_3$. Получаем $x_1$\n",
    "2. Находим признак, который сильнее всего уменьшает ошибку: обучаемся на $x_2$; $x_3$. Получаем $x_2$\n",
    "3. Снова ищем признак, который сильнее всего уменьшает ошибку: обучаемся на $x_3$. Получаем $x_3$\n",
    "\n",
    "Так далаем до тех пор, пока уменьшается ошибка."
   ]
  },
  {
   "cell_type": "markdown",
   "metadata": {},
   "source": [
    "Есть также модификации этого алгоритма с многократным проходом по выборке и поочередным включением/исключением признаков из подмножества для учета совокупного влияния признаков. Он менее жадный и может исправлять ошибки перебора, которые могли допустить ранее."
   ]
  },
  {
   "cell_type": "markdown",
   "metadata": {},
   "source": [
    "**Пример менее жадного алгоритма (ADD-DEL):**\n",
    "\n",
    "1. Добавляем признаки, пока уменьшается ошибка (пример жадного алгоритма выше)\n",
    "2. Удаляем признаки, пока уменьшается ошибка\n",
    "3. Повторяем пунткы 1 и 2, пока уменьшается ошибка "
   ]
  },
  {
   "cell_type": "markdown",
   "metadata": {
    "id": "Q5TOTIM4dfJo"
   },
   "source": [
    "Примером нежадного алгоритма может быть простой последовательный полный перебор всех возможных подмножеств признаков. Такой подбор позволяет найти наиболее оптимальное подмножество признаков, но, очевидно, он является достаточно трудоемким, поэтому подходит только для датасетов с небольшим количеством признаков."
   ]
  },
  {
   "cell_type": "markdown",
   "metadata": {},
   "source": [
    "**Пример нежадного алгоритма:**\n",
    "\n",
    "Есть 3 признака ($x_1, x_2, x_3$)<br>\n",
    "Будем обучать алгоритм на подмножестве:\n",
    "- мощностью 1: $x_1$; $x_2$; $x_3$\n",
    "- мощностью 2: $x_1$ $x_2$; $x_1$ $x_3$; $x_2$ $x_3$\n",
    "- мощностью 3: $x_1$ $x_2$ $x_3$"
   ]
  },
  {
   "cell_type": "markdown",
   "metadata": {},
   "source": [
    "### Встроенные в модели <a class='anchor' id='integrated'>"
   ]
  },
  {
   "cell_type": "markdown",
   "metadata": {
    "id": "kqDrhuvidfJp"
   },
   "source": [
    "Еще одна группа методов отбора признаков - _встроенные в модели_. Они используют эвристики, заложенные в обучающие модели, для оценки важности признаков.\n",
    "\n",
    "- Например, в случае работы с линейными моделями мы имеем зависимость целевой переменной от взвешенной суммы признаков $$a(x) = \\sum_{i=1}^{n}w_{i}x^{i}.$$ Здесь, если признаки масштабированы, веса будут являться показателями информативности признаков: чем больше вес, тем больший вклад данный признак вносит в значение целевой переменной. На основе этого показателя можно проводить отбор признаков. Также, вспоминая уроки по линейным моделям, можно упомянуть, что использование $L_{1}$-регуляризации приводит к занулению весов наименее важных признаков, то есть к их отбрасыванию, при этом больший коэффициент регуляризации будет приводить к большему количеству зануленных весов.\n"
   ]
  },
  {
   "cell_type": "code",
   "execution_count": 19,
   "metadata": {},
   "outputs": [
    {
     "data": {
      "text/plain": "LinearRegression()"
     },
     "execution_count": 19,
     "metadata": {},
     "output_type": "execute_result"
    }
   ],
   "source": [
    "from sklearn.linear_model import LinearRegression, Lasso\n",
    "\n",
    "lr = LinearRegression()\n",
    "\n",
    "lr.fit(X_rgr, y_rgr)\n",
    "\n",
    "#display(lr.coef_)"
   ]
  },
  {
   "cell_type": "code",
   "execution_count": 20,
   "metadata": {},
   "outputs": [
    {
     "data": {
      "text/plain": "Lasso(alpha=20)"
     },
     "execution_count": 20,
     "metadata": {},
     "output_type": "execute_result"
    }
   ],
   "source": [
    "lasso = Lasso(alpha=20)\n",
    "\n",
    "lasso.fit(X_rgr, y_rgr)\n",
    "\n",
    "#(lasso.coef_)"
   ]
  },
  {
   "cell_type": "markdown",
   "metadata": {
    "id": "iMFGIpqQdfJr"
   },
   "source": [
    "- В случае использования решающих деревьев и их композиций, где в каждой вершине происходит разбиение на два поддерева путем сравнивания значения одного признака с некоторым значением порога, важность признака можно оценивать по тому, насколько он уменьшает значение критерия информативности, по которому оценивается качество разбиения: $$Q(X_{m}, j, t) = H(X_{m}) - \\frac{|X_{l}|}{|X_{m}|}H(X_{l}) - \\frac{|X_{r}|}{|X_{m}|}H(X_{r}),$$ где $X_{m}$ - множество объектов, попавших в вершину на данном шаге, $X_{l}$ и $X_{r}$ - множества, попадающие в левое и правое поддерево, соответственно, после разбиения. $H(X)$ - критерий информативности. \n",
    "    \n",
    "    Чем сильнее падает критерий информативности при разбиении по данному признаку (то есть чем выше $Q$), тем этот признак важнее. Таким образом, важность $j$-го признака можно оценить путем вычисления суммы уменьшений критерия информативности по всем вершинам, в которых делалось разбиение по данному признаку. Чем больше эта сумма, тем важнее данный признак был при построении дерева. В случае композиций деревьев этот показатель суммируется по всем деревьям."
   ]
  },
  {
   "cell_type": "code",
   "execution_count": 21,
   "metadata": {},
   "outputs": [
    {
     "data": {
      "text/plain": "<Figure size 1440x720 with 1 Axes>",
      "image/png": "[encoded data removed]"
     },
     "metadata": {
      "needs_background": "light"
     },
     "output_type": "display_data"
    }
   ],
   "source": [
    "from sklearn.tree import DecisionTreeRegressor, plot_tree\n",
    "from sklearn.inspection import permutation_importance\n",
    "import matplotlib.pyplot as plt\n",
    "\n",
    "tree = DecisionTreeRegressor()\n",
    "\n",
    "tree.fit(X_rgr, y_rgr)\n",
    "\n",
    "#display(tree.feature_importances_)\n",
    "\n",
    "fig, ax = plt.subplots(figsize=(20, 10))\n",
    "plot_tree(tree, ax=ax, filled=True, max_depth=2);"
   ]
  },
  {
   "cell_type": "markdown",
   "metadata": {
    "pycharm": {
     "name": "#%% md\n"
    }
   },
   "source": [
    "1 - \n",
    "2 - shuffle"
   ]
  },
  {
   "cell_type": "code",
   "execution_count": 22,
   "metadata": {},
   "outputs": [
    {
     "data": {
      "text/plain": "{'importances_mean': array([2.74338817e-05, 1.98193790e+00]),\n 'importances_std': array([1.33192097e-05, 2.47072217e-02]),\n 'importances': array([[1.27603104e-05, 4.93755172e-05, 3.55423093e-05, 1.79718225e-05,\n         2.15194490e-05],\n        [1.96881281e+00, 1.98590444e+00, 1.99367348e+00, 2.01754917e+00,\n         1.94374961e+00]])}"
     },
     "execution_count": 22,
     "metadata": {},
     "output_type": "execute_result"
    }
   ],
   "source": [
    "permutation_importance(tree, X_rgr, y_rgr)"
   ]
  },
  {
   "cell_type": "markdown",
   "metadata": {
    "id": "suyYET13dfJr"
   },
   "source": [
    "## Понижение размерности <a class='anchor' id='reduce_dims'>"
   ]
  },
  {
   "cell_type": "markdown",
   "metadata": {},
   "source": [
    "### **Для чего может быть полезно понижение размерности:**\n",
    "\n",
    "*1. Визуализация*\n",
    "\n",
    "Тяжело визуализировать многомерное простаранство\n",
    "<img src='images/6dims.png' width=300>\n",
    "*2. Сжатие с сохранением смысла*\n",
    "\n",
    "Все признаки важные, отбрасывать их нельзя, но можно их сжать\n",
    "<img src='images/pca_reduce.png' width=300>\n",
    "*3. Абстрактные признаки*\n",
    "\n",
    "Получить новые признаки на основе старых\n",
    "<img src='images/retail.png' width=500>"
   ]
  },
  {
   "cell_type": "markdown",
   "metadata": {
    "id": "8w8aSllUdfJs"
   },
   "source": [
    "### Метод случайных проекций\n",
    "\n",
    "Кроме отбора признаков, который не всегда оптимален в плане сохранения максимума полезной информации, существуют еще методы понижения размерности путем формирования новых признаков на основе старых. Новых признаков при использовании такого метода должно быть меньше, чем исходных, при условии сохранения максимально возможного количества информации из исходных признаков. Например, объединение нескольких признаков в линейную комбинацию:\n",
    "\n",
    "$$z_{ij}=\\sum_{k=1}^{D}w_{jk}x_{ik},$$\n",
    "\n",
    "где $x_{ij}$ - исходные признаки, $z_{ij}$ - новые признаки, а $w_{jk}$ - вклад исходного k-го признака в новый j-й."
   ]
  },
  {
   "cell_type": "markdown",
   "metadata": {
    "id": "U2iJ7XBhdfJt"
   },
   "source": [
    "Простейшим методов такого понижения размерности является метод *случайных проекций*, который заключается в преобразованиях, сохраняющих расстояния и снижающих размерности.\n",
    "\n",
    "Линейный подход $z_{ij}=\\sum_{k=1}^{n}w_{jk}x_{ik}$, выбор весов случайный $w_{jk}\\sim N(0, \\frac{1}{d})$.\n",
    "\n",
    "Можем спроецировать выборку в пространство меньшей размерности, при этом расстояния между объектами мало изменятся.\n",
    "\n",
    "Существование таких преобразований доказано для выборок, в которых объектов меньше, чем признаков. Веса при всех признаках в таком методе можно выбирать случайно. При этом не факт, что мы попадем в оптимальное преобразование, но практика показывает, что метод работает, если размерность нового пространства признаков\n",
    "\n",
    "$$d > \\frac{8\\text{ln}l}{\\varepsilon^{2}},$$\n",
    "\n",
    "где $l$ - количество объектов, $\\varepsilon$ - максимальное изменение расстояния между объектами (лемма о малом искажении или лемма Джонсона-Линденштраусса).\n",
    "\n",
    "Хорошо работает для текстов, где признаков очень много."
   ]
  },
  {
   "cell_type": "code",
   "execution_count": 23,
   "metadata": {},
   "outputs": [],
   "source": [
    "import matplotlib.pyplot as plt\n",
    "import numpy as np\n",
    "\n",
    "%matplotlib inline"
   ]
  },
  {
   "cell_type": "code",
   "execution_count": 24,
   "metadata": {},
   "outputs": [
    {
     "data": {
      "text/plain": "<Figure size 432x288 with 1 Axes>",
      "image/png": "[encoded data removed]"
     },
     "metadata": {
      "needs_background": "light"
     },
     "output_type": "display_data"
    }
   ],
   "source": [
    "eps = 1e-1\n",
    "\n",
    "dots = np.linspace(1000, 30000, 1000)\n",
    "fs = list(map(lambda l: 8 * np.log(l) / eps ** 2, dots))\n",
    "\n",
    "plt.xlabel('кол-во наблюдений')\n",
    "plt.ylabel('кол-во признаков')\n",
    "plt.xlim(1000, 30000)\n",
    "plt.plot(dots, fs);"
   ]
  },
  {
   "cell_type": "markdown",
   "metadata": {
    "id": "7RKYQxgMdfJu"
   },
   "source": [
    "#### Метод главных компонент (PCA) <a class='anchor' id='pca'>"
   ]
  },
  {
   "cell_type": "markdown",
   "metadata": {
    "id": "A7frA6OrdfJv"
   },
   "source": [
    "Одним из наиболее известных и широко применяемых методов понижения размерности является _метод главных компонент (principal component analysis, PCA)_.\n",
    "<img src=\"images/pca_2.png\">"
   ]
  },
  {
   "cell_type": "markdown",
   "metadata": {},
   "source": [
    "Запишем показанную ранее формулу линейного преобразования признаков в матричном виде:\n",
    "\n",
    "$$Z = XW^{T},$$\n",
    "\n",
    "где $X$ - матрица \"объекты-признаки\", где по строкам отложены объекты, а по столбцам - значения признаков, $Z$ - матрица новых признаков, $W^{T}$ - транспонированная матрица весов.\n",
    "\n",
    "При этом метод главных компонент предполагает, что матрица весов должна быть ортогональной, то есть произведение $WW^{T}$ должно равняться единичной матрице. \n",
    "\n",
    "Приближение заключается формировании новой матрицы признаков $\\tilde{X}=ZW\\approx X$ с возможностью восстанавливания старых признаков по новым с максимальным уровнем точности, или, если говорить иначе, чтобы их различие было минимальным:\n",
    "\n",
    "$$\\|ZW - X\\|^{2} \\rightarrow \\underset{Z, W}{\\text{min}}.$$\n",
    "\n",
    "$\\|X\\| = \\sqrt{\\sum_{i, j}x_{ij}^2}$ (Норма Фробениуса)"
   ]
  },
  {
   "cell_type": "markdown",
   "metadata": {
    "id": "6oGhpkBfdfJv"
   },
   "source": [
    " Восстановленная матрица $ZW$ может иметь ранг меньший, чем исходная $X$, поэтому приближение будет называться низкоранговым."
   ]
  },
  {
   "cell_type": "markdown",
   "metadata": {},
   "source": [
    "По сути это задача матричного разложения: мы хотим представить матрицу X в виде произведения ZW, которые будут иметь меньший ранг. То есть хотим уменьшить ранг, потеряв как можно меньше информации."
   ]
  },
  {
   "cell_type": "markdown",
   "metadata": {
    "pycharm": {
     "name": "#%% md\n"
    }
   },
   "source": [
    "10 features\n",
    "6 informative\n",
    "4 redundant\n",
    "\n",
    "rank = 6"
   ]
  },
  {
   "cell_type": "markdown",
   "metadata": {
    "id": "3dV8i8cDdfJx"
   },
   "source": [
    "Если ранг матрицы исходных признаков $rank(X) \\geq d$, где $d$ - число новых признаков, то минимум функционала различия, описанного выше, достигается тогда, когда в качестве строк матрицы $W$ используются собственные векторы матрицы $X^{T}X$ , соответствующие максимальным собственным значениям $\\lambda_{1},...,\\lambda_{d}$. Максимальные собственные значения и называются главными компонентами, от чего пошло название метода. Первая главная компонента соответствует максимальному собственному значению и т.д."
   ]
  },
  {
   "cell_type": "markdown",
   "metadata": {
    "id": "P45TTDjedfJw"
   },
   "source": [
    "Геометрически метод можно представить как проецирование признаков на гиперплоскость с максимизацией дисперсии получаемой выборки.\n",
    "<img src='https://i.stack.imgur.com/Q7HIP.gif'>"
   ]
  },
  {
   "cell_type": "code",
   "execution_count": 25,
   "metadata": {
    "id": "kSmUQy4ZdfJ2"
   },
   "outputs": [],
   "source": [
    "import numpy as np\n",
    "from sklearn import datasets\n",
    "import matplotlib.pyplot as plt"
   ]
  },
  {
   "cell_type": "markdown",
   "metadata": {},
   "source": [
    "### Пример \"на пальцах\"\n",
    "[Статья](https://habr.com/ru/post/304214/) про метод главных компонент\n",
    "\n",
    "В данной выборке у нас имеются два признака, сильно коррелирующие друг с другом. С помощью алгоритма PCA мы сможем найти новый признак и выразить оба этих признака одним новым."
   ]
  },
  {
   "cell_type": "code",
   "execution_count": 26,
   "metadata": {},
   "outputs": [
    {
     "data": {
      "text/plain": "<Figure size 432x288 with 1 Axes>",
      "image/png": "[encoded data removed]"
     },
     "metadata": {
      "needs_background": "light"
     },
     "output_type": "display_data"
    }
   ],
   "source": [
    "np.random.seed(7)\n",
    "x = np.arange(1, 11)\n",
    "y = 2 * x + np.random.randn(10) * 2\n",
    "\n",
    "X = np.vstack((x,y)).T\n",
    "plt.scatter(X[:, 0], X[:, 1]);"
   ]
  },
  {
   "cell_type": "markdown",
   "metadata": {},
   "source": [
    "\n",
    "Для описания случайной величины используются мат. ожидание и дисперсия. Можно сказать, что мат. ожидание – это «центр тяжести» величины, а дисперсия – это ее «размеры». Грубо говоря, мат. ожидание задает положение случайной величины, а дисперсия – ее размер (точнее, разброс)."
   ]
  },
  {
   "cell_type": "code",
   "execution_count": 27,
   "metadata": {},
   "outputs": [
    {
     "data": {
      "text/plain": "<Figure size 432x288 with 1 Axes>",
      "image/png": "[encoded data removed]"
     },
     "metadata": {
      "needs_background": "light"
     },
     "output_type": "display_data"
    }
   ],
   "source": [
    "def standard_scale(x):\n",
    "    res = (x - x.mean(axis=0)) / x.std(axis=0)\n",
    "    return res\n",
    "\n",
    "\n",
    "X = standard_scale(X)\n",
    "plt.scatter(X[:, 0], X[:, 1])\n",
    "plt.grid()"
   ]
  },
  {
   "cell_type": "markdown",
   "metadata": {},
   "source": [
    "В случае с многомерной случайной величиной (случайным вектором) положение центра все так же будет являться мат. ожиданиями ее проекций на оси. А вот для описания ее формы уже недостаточно только ее дисперсий по осям. \n",
    "\n",
    "Для описания формы случайного вектора необходима ковариационная матрица. Ковариационная матрица является обобщением дисперсии на случай многомерных случайных величин – она так же описывает форму (разброс) случайной величины, как и дисперсия."
   ]
  },
  {
   "cell_type": "code",
   "execution_count": 28,
   "metadata": {},
   "outputs": [
    {
     "name": "stdout",
     "output_type": "stream",
     "text": [
      "Ковариация 0 признака (дисперсия 0 признака) 1.1111111111111112\n",
      "Ковариация 1 признака (дисперсия 1 признака) 1.111111111111111\n",
      "Ковариация 0 и 1 признака 1.055151566476865\n"
     ]
    },
    {
     "data": {
      "text/plain": "array([[1.11111111, 1.05515157],\n       [1.05515157, 1.11111111]])"
     },
     "execution_count": 28,
     "metadata": {},
     "output_type": "execute_result"
    }
   ],
   "source": [
    "# Вычислите массив a_centered, отняв от значений массива “а” средние значения\n",
    "# Найдите скалярное произведение столбцов массива a_centered. a_centered_sp на N-1, где N - число наблюдений.\n",
    "\n",
    "def covariance(x, y):\n",
    "    return np.sum(x * y) / (len(x) - 1)\n",
    "\n",
    "print(f'Ковариация 0 признака (дисперсия 0 признака) {covariance(X[:, 0], X[:, 0])}')\n",
    "print(f'Ковариация 1 признака (дисперсия 1 признака) {covariance(X[:, 1], X[:, 1])}')\n",
    "print(f'Ковариация 0 и 1 признака {covariance(X[:, 0], X[:, 1])}')\n",
    "cov = np.cov(X.T)\n",
    "cov"
   ]
  },
  {
   "cell_type": "code",
   "execution_count": 29,
   "metadata": {},
   "outputs": [
    {
     "data": {
      "text/plain": "array([[1.11111111, 1.05515157],\n       [1.05515157, 1.11111111]])"
     },
     "execution_count": 29,
     "metadata": {},
     "output_type": "execute_result"
    }
   ],
   "source": [
    "X.T @ X / 9"
   ]
  },
  {
   "cell_type": "markdown",
   "metadata": {},
   "source": [
    "Теперь надо найти такой вектор, при котором максимизировался бы размер (дисперсия) проекции нашей выборки на него."
   ]
  },
  {
   "cell_type": "code",
   "execution_count": 30,
   "metadata": {},
   "outputs": [
    {
     "data": {
      "text/plain": "<Figure size 432x288 with 1 Axes>",
      "image/png": "[encoded data removed]"
     },
     "metadata": {
      "needs_background": "light"
     },
     "output_type": "display_data"
    }
   ],
   "source": [
    "plt.scatter(X[:, 0], X[:, 1])\n",
    "plt.grid()\n",
    "\n",
    "plt.xlim(-2, 2)\n",
    "plt.ylim(-2, 2)\n",
    "\n",
    "plt.plot([-2, 2], list(map(lambda x: x * 0.95, [-2, 2])), c='g');"
   ]
  },
  {
   "cell_type": "code",
   "execution_count": 31,
   "metadata": {},
   "outputs": [],
   "source": [
    "# X.T"
   ]
  },
  {
   "cell_type": "markdown",
   "metadata": {},
   "source": [
    "Возьмем единичный вектор, на который будем проецировать вектор X. Тогда проекция на него будет равна $v^TX$. Дисперсия проекции на вектор будет соответственно равна $Var(v^TX)$. В общем виде в векторной форме (для центрированных величин) дисперсия выражается так:\n",
    "\n",
    "$$Var(X) = \\frac{1}{n}\\sum_{i, j}^n{x_{ij} \\cdot x^T_{ij}} = E(X \\cdot X^T)$$\n",
    "\n",
    "Дисперсия проекции:\n",
    "$$Var(X^*) = E(X^* \\cdot X^{*T}) = E((v^TX) \\cdot (v^TX)^T) = E(v^TX \\cdot X^Tv) = v^TE(X \\cdot X^T)v$$"
   ]
  },
  {
   "cell_type": "markdown",
   "metadata": {},
   "source": [
    "Дисперсия максимизируется при максимальном значении. У отношения Рэлея есть специальный случай для ковариационных матриц:\n",
    "\n",
    "$$R(A, v) = \\frac{v^TAv}{v^Tv} = \\lambda \\frac{v^Tv}{v^Tv} = \\lambda$$\n",
    "\n",
    "$$Av = \\lambda v$$\n",
    "\n",
    "Эта формула - разложение матрицы на собственные вектора и значения. v - собственный вектор, а λ – собственное значение. Количество собственных векторов и значений равны размеру матрицы.\n",
    "Про геометрический смысл собственных векторов можно посмотреть [здесь ](https://www.youtube.com/watch?v=iOSiszhpQhA).\n",
    "\n",
    "Таким образом, направление максимальной дисперсии у проекции всегда совпадает с собственным вектором, имеющим максимальное собственное значение."
   ]
  },
  {
   "cell_type": "code",
   "execution_count": 32,
   "metadata": {},
   "outputs": [],
   "source": [
    "eig_val, eig_vecs = np.linalg.eig(X.T @ X)\n",
    "#(eig_val, eig_vecs)"
   ]
  },
  {
   "cell_type": "code",
   "execution_count": 33,
   "metadata": {},
   "outputs": [
    {
     "data": {
      "text/plain": "(array([0.70710678, 0.70710678]), array([-0.70710678,  0.70710678]))"
     },
     "execution_count": 33,
     "metadata": {},
     "output_type": "execute_result"
    }
   ],
   "source": [
    "vec0 = eig_vecs[:, 0]\n",
    "vec1 = eig_vecs[:, 1]\n",
    "vec0, vec1"
   ]
  },
  {
   "cell_type": "code",
   "execution_count": 34,
   "metadata": {},
   "outputs": [
    {
     "data": {
      "text/plain": "<Figure size 432x288 with 1 Axes>",
      "image/png": "[encoded data removed]"
     },
     "metadata": {
      "needs_background": "light"
     },
     "output_type": "display_data"
    }
   ],
   "source": [
    "plt.scatter(X[:, 0], X[:, 1])\n",
    "plt.grid()\n",
    "\n",
    "plt.xlim(-2, 2)\n",
    "plt.ylim(-2, 2)\n",
    "\n",
    "plt.plot([0, vec0[0]], [0, vec0[1]], c='r')\n",
    "plt.plot([0, vec1[0]], [0, vec1[1]], c='g');"
   ]
  },
  {
   "cell_type": "markdown",
   "metadata": {},
   "source": [
    "Часто требуется оценить объем потерянной (и сохраненной) информации. Удобнее всего представить в процентах. Берем дисперсию по каждой из осей и делим на общую сумму дисперсий по осям (т.е. сумму всех собственных значений)."
   ]
  },
  {
   "cell_type": "code",
   "execution_count": 35,
   "metadata": {},
   "outputs": [
    {
     "data": {
      "text/plain": "[97.48182049145893, 2.518179508541074]"
     },
     "execution_count": 35,
     "metadata": {},
     "output_type": "execute_result"
    }
   ],
   "source": [
    "eig_sum = sum(eig_val)\n",
    "[(i / eig_sum) * 100 for i in sorted(eig_val, reverse=True)]"
   ]
  },
  {
   "cell_type": "markdown",
   "metadata": {},
   "source": [
    "Таким образом, наш больший вектор описывает 97.48%, а меньший, соответственно, 2.51%. Отбросив меньший вектор и спроецировав данные на больший, мы потеряем меньше 3% информации.\n",
    "\n",
    "На практике, если суммарная потеря информации составляет не более 10-20%, то можно спокойно снижать размерность."
   ]
  },
  {
   "cell_type": "markdown",
   "metadata": {},
   "source": [
    "Теперь нужно спроецировать данные на вектор."
   ]
  },
  {
   "cell_type": "code",
   "execution_count": 36,
   "metadata": {},
   "outputs": [
    {
     "data": {
      "text/plain": "array([-1.8199141 , -1.85932034, -1.24301832, -0.65735334, -0.45968116,\n        0.22878749,  0.72119107,  0.78121433,  1.9589893 ,  2.34910508])"
     },
     "execution_count": 36,
     "metadata": {},
     "output_type": "execute_result"
    }
   ],
   "source": [
    "v = vec0\n",
    "Z = np.dot(X, v)\n",
    "Z"
   ]
  },
  {
   "cell_type": "code",
   "execution_count": 37,
   "metadata": {},
   "outputs": [
    {
     "data": {
      "text/plain": "array([[-1.8199141 ],\n       [-1.85932034],\n       [-1.24301832],\n       [-0.65735334],\n       [-0.45968116],\n       [ 0.22878749],\n       [ 0.72119107],\n       [ 0.78121433],\n       [ 1.9589893 ],\n       [ 2.34910508]])"
     },
     "execution_count": 37,
     "metadata": {},
     "output_type": "execute_result"
    }
   ],
   "source": [
    "from sklearn.decomposition import PCA\n",
    "pca = PCA(n_components=1)\n",
    "X_reduced = pca.fit_transform(X)\n",
    "X_reduced"
   ]
  },
  {
   "cell_type": "code",
   "execution_count": 38,
   "metadata": {},
   "outputs": [
    {
     "data": {
      "text/plain": "(array([19.4963641,  0.5036359]),\n array([[ 0.70710678, -0.70710678],\n        [ 0.70710678,  0.70710678]]))"
     },
     "execution_count": 38,
     "metadata": {},
     "output_type": "execute_result"
    }
   ],
   "source": [
    "np.linalg.eig(X.T @ X)"
   ]
  },
  {
   "cell_type": "code",
   "execution_count": 39,
   "metadata": {},
   "outputs": [
    {
     "data": {
      "text/plain": "19.496364098291778"
     },
     "execution_count": 39,
     "metadata": {},
     "output_type": "execute_result"
    }
   ],
   "source": [
    "Z.T @ Z"
   ]
  },
  {
   "cell_type": "markdown",
   "metadata": {
    "id": "VvLN4XJLdfJx"
   },
   "source": [
    "Некоторые полезные свойства метода:\n",
    "\n",
    "- Матрица $Z$ при этом будет такой, что $Z^{T}Z = \\Lambda = diag(\\lambda_{1},...,\\lambda_{d})$.\n",
    "\n",
    "\n",
    "- Минимизированный функционал ошибки будет равен $$\\|ZW - X\\|^{2} = \\|X\\|^{2} - tr\\Lambda,$$ где $tr\\Lambda,$ - след матрицы $\\Lambda$, то есть сумма всех собственных значений $\\lambda_{1},...,\\lambda_{d}$, а $\\|X\\|^{2}$ - сумма всех собственных значений исходной матрицы $\\lambda_{1},...,\\lambda_{n}$, таким образом $$\\|ZW - X\\|^{2} = \\sum_{j=d+1}^{n}\\lambda_{j},$$ то есть значение функционала ошибки будет равно сумме собственных значений, которые не были взяты в получаемое разложение. Поэтому логично брать в разложение максимальные собственные значения, оставляя минимальные.\n"
   ]
  },
  {
   "cell_type": "markdown",
   "metadata": {
    "id": "-pPzjbW8dfJy"
   },
   "source": [
    "Таким образом, для реализации метода главных компонент нужно :\n",
    "- найти собственные значения матрицы $X^{T}X$;\n",
    "- отобрать $d$ максимальных;\n",
    "- составить матрицу $W^{T}$, столбцы которой будут являться собственными векторами, соответствующими отобранным собственным значениям, расположенным в порядке убывания;\n",
    "- получить новую матрицу \"объекты-признаки\", умножив исходную матрицу $X$ на матрицу весов $W$ :\n",
    "\n",
    "$$Z=XW.$$"
   ]
  },
  {
   "cell_type": "markdown",
   "metadata": {
    "id": "LnYvDiOadfJz"
   },
   "source": [
    "#### PCA и SVD"
   ]
  },
  {
   "cell_type": "markdown",
   "metadata": {
    "id": "Thkg-tSXdfJ0"
   },
   "source": [
    "Сформулировав принцип реализации метода главных компонент, нельзя не заметить его родство с сингулярным разложением матриц (SVD). Вспомним, что сингулярное разложение матрицы - это разложение вида\n",
    "\n",
    "$$X=UDV^{T},$$\n",
    "\n",
    "- столбцы ортогональной матрицы $U$ - это собственные векторы матрицы $XX^{T}$\n",
    "- столбцы ортогональной матрицы $V$ - собственные векторы матрицы $X^{T}X$\n",
    "- на главной диагонали диагональной матрицы $D$ расположены собственные значения матриц $XX^{T}$ и $X^{T}X$ (они равны и также называются сингулярными числами матрицы $X$)."
   ]
  },
  {
   "cell_type": "markdown",
   "metadata": {
    "id": "8tzfpn9zdfJ0"
   },
   "source": [
    "Таким образом, для реализации понижения размерности методом главных компонент с помощью SVD нужно:\n",
    "- найти сингулярное разложение $X^TX$;\n",
    "- сформировать из столбцов матрицы $V$, соответствующих $d$ наибольшим сингулярным числам, матрицу весов $W$;\n",
    "- получить новую матрицу \"объекты-признаки\", умножив исходную матрицу $X$ на матрицу весов $W$:\n",
    "\n",
    "$$Z=XW.$$"
   ]
  },
  {
   "cell_type": "code",
   "execution_count": 40,
   "outputs": [
    {
     "data": {
      "text/plain": "KNeighborsClassifier(n_neighbors=3)"
     },
     "execution_count": 40,
     "metadata": {},
     "output_type": "execute_result"
    }
   ],
   "source": [
    "#Добавил обучение KNN без PCA\n",
    "from sklearn.metrics import f1_score\n",
    "from sklearn.model_selection import train_test_split\n",
    "from sklearn.neighbors import KNeighborsClassifier\n",
    "# Загрузим ирисы из sklearn и засплитим на трейн и тест\n",
    "iris = datasets.load_iris()\n",
    "X_train, X_test, y_train, y_test = train_test_split(iris.data, iris.target, test_size=0.3, random_state=42)\n",
    "#Обучим KNN без PCA\n",
    "KNN = KNeighborsClassifier(n_neighbors=3)\n",
    "KNN.fit(X_train, y_train)"
   ],
   "metadata": {
    "collapsed": false,
    "pycharm": {
     "name": "#%%\n"
    }
   }
  },
  {
   "cell_type": "markdown",
   "metadata": {
    "id": "dWEQalcAdfJ1"
   },
   "source": [
    "Для закрепления теории реализуем PCA с помощью Python."
   ]
  },
  {
   "cell_type": "markdown",
   "metadata": {},
   "source": [
    "### Пример на ирисах"
   ]
  },
  {
   "cell_type": "code",
   "execution_count": 41,
   "metadata": {
    "id": "m3d93Gx2dfJ6",
    "outputId": "eaee1c83-f56e-474c-a5f2-bdd5d4659ab4"
   },
   "outputs": [
    {
     "data": {
      "text/plain": "(150, 4)"
     },
     "execution_count": 41,
     "metadata": {},
     "output_type": "execute_result"
    }
   ],
   "source": [
    "# Загрузим игрушечный датасет из sklearn\n",
    "iris = datasets.load_iris()\n",
    "X = iris.data\n",
    "X.shape"
   ]
  },
  {
   "cell_type": "code",
   "execution_count": 42,
   "metadata": {},
   "outputs": [],
   "source": [
    "# Для начала отмасштабируем выборку\n",
    "X = X.astype(float)\n",
    "\n",
    "X = standard_scale(X)"
   ]
  },
  {
   "cell_type": "code",
   "execution_count": 43,
   "metadata": {},
   "outputs": [
    {
     "data": {
      "text/plain": "array([[-0.90068117,  1.01900435, -1.34022653, -1.3154443 ],\n       [-1.14301691, -0.13197948, -1.34022653, -1.3154443 ],\n       [-1.38535265,  0.32841405, -1.39706395, -1.3154443 ],\n       [-1.50652052,  0.09821729, -1.2833891 , -1.3154443 ],\n       [-1.02184904,  1.24920112, -1.34022653, -1.3154443 ],\n       [-0.53717756,  1.93979142, -1.16971425, -1.05217993],\n       [-1.50652052,  0.78880759, -1.34022653, -1.18381211],\n       [-1.02184904,  0.78880759, -1.2833891 , -1.3154443 ],\n       [-1.74885626, -0.36217625, -1.34022653, -1.3154443 ],\n       [-1.14301691,  0.09821729, -1.2833891 , -1.44707648]])"
     },
     "execution_count": 43,
     "metadata": {},
     "output_type": "execute_result"
    }
   ],
   "source": [
    "X[:10]"
   ]
  },
  {
   "cell_type": "code",
   "execution_count": 44,
   "metadata": {
    "id": "ItFOmLW9dfKB",
    "outputId": "0b507805-c106-4539-d15a-4dc8327b764f"
   },
   "outputs": [
    {
     "name": "stdout",
     "output_type": "stream",
     "text": [
      "Собственные значения и собственные векторы в порядке убывания:\n",
      "(437.77467247979905, array([ 0.52106591, -0.26934744,  0.5804131 ,  0.56485654]))\n",
      "(137.10457072021057, array([-0.37741762, -0.92329566, -0.02449161, -0.06694199]))\n",
      "(22.013531335697206, array([-0.71956635,  0.24438178,  0.14212637,  0.63427274]))\n",
      "(3.1072254642929558, array([ 0.26128628, -0.12350962, -0.80144925,  0.52359713]))\n"
     ]
    }
   ],
   "source": [
    "# Найдем собственные векторы и собственные значения\n",
    " \n",
    "covariance_matrix = X.T @ X\n",
    "\n",
    "eig_values, eig_vectors = np.linalg.eig(covariance_matrix)\n",
    "\n",
    "# сформируем список кортежей (собственное значение, собственный вектор)\n",
    "eig_pairs = [(np.abs(eig_values[i]), eig_vectors[:, i]) for i in range(len(eig_values))]\n",
    "\n",
    "# и отсортируем список по убыванию собственных значений\n",
    "eig_pairs.sort(key=lambda x: x[0], reverse=True)\n",
    "\n",
    "print('Собственные значения и собственные векторы в порядке убывания:')\n",
    "for i in eig_pairs:\n",
    "    print(i)"
   ]
  },
  {
   "cell_type": "markdown",
   "metadata": {
    "id": "9mdEDwm2dfKD"
   },
   "source": [
    "Оценим долю дисперсии, которая описывается найденными компонентами."
   ]
  },
  {
   "cell_type": "code",
   "execution_count": 45,
   "metadata": {
    "id": "Ct-1I70mdfKE",
    "outputId": "ab04c5c2-649d-4f6f-e849-3791203481d2"
   },
   "outputs": [
    {
     "name": "stdout",
     "output_type": "stream",
     "text": [
      "Доля дисперсии, описываемая каждой из компонент \n",
      "[72.96244541329987, 22.850761786701774, 3.6689218892828697, 0.517870910715493]\n",
      "Кумулятивная доля дисперсии по компонентам \n",
      "[ 72.96244541  95.8132072   99.48212909 100.        ]\n"
     ]
    }
   ],
   "source": [
    "eig_sum = sum(eig_values)\n",
    "var_exp = [(i / eig_sum) * 100 for i in sorted(eig_values, reverse=True)]\n",
    "cum_var_exp = np.cumsum(var_exp)\n",
    "print(f'Доля дисперсии, описываемая каждой из компонент \\n{var_exp}')\n",
    "\n",
    "# а теперь оценим кумулятивную (то есть накапливаемую) дисперсию при учитывании каждой из компонент\n",
    "print(f'Кумулятивная доля дисперсии по компонентам \\n{cum_var_exp}')"
   ]
  },
  {
   "cell_type": "markdown",
   "metadata": {
    "id": "NE15sfLtdfKH"
   },
   "source": [
    "Таким образом, первая главная компонента описывает почти 73% информации, а первые две в сумме - 95.8%. В то же время последняя компонента описывает всего 0.5% и может быть отброжена без страха значительных потерь в качестве нашего анализа. Мы отбросим последние две компоненты, оставив первые две."
   ]
  },
  {
   "cell_type": "code",
   "execution_count": 46,
   "metadata": {
    "id": "z4xcGvf7dfKI",
    "outputId": "e406100f-3bd4-40fb-ce09-15db12e77a12"
   },
   "outputs": [
    {
     "name": "stdout",
     "output_type": "stream",
     "text": [
      "Матрица весов W:\n",
      " [[ 0.52106591 -0.37741762]\n",
      " [-0.26934744 -0.92329566]\n",
      " [ 0.5804131  -0.02449161]\n",
      " [ 0.56485654 -0.06694199]]\n"
     ]
    }
   ],
   "source": [
    "# Сформируем вектор весов из собственных векторов, соответствующих первым двум главным компонентам\n",
    "W = np.hstack([eig_pairs[i][1].reshape(4,1) for i in range(2)])\n",
    "\n",
    "print(f'Матрица весов W:\\n', W)"
   ]
  },
  {
   "cell_type": "code",
   "execution_count": 47,
   "metadata": {
    "id": "n04tyd6xdfKL"
   },
   "outputs": [],
   "source": [
    "# Сформируем новую матрицу \"объекты-признаки\"\n",
    "Z = X.dot(W)"
   ]
  },
  {
   "cell_type": "code",
   "execution_count": 48,
   "metadata": {},
   "outputs": [
    {
     "data": {
      "text/plain": "array([[-2.26470281, -0.4800266 ],\n       [-2.08096115,  0.67413356],\n       [-2.36422905,  0.34190802],\n       [-2.29938422,  0.59739451],\n       [-2.38984217, -0.64683538],\n       [-2.07563095, -1.48917752],\n       [-2.44402884, -0.0476442 ],\n       [-2.23284716, -0.22314807],\n       [-2.33464048,  1.11532768],\n       [-2.18432817,  0.46901356]])"
     },
     "execution_count": 48,
     "metadata": {},
     "output_type": "execute_result"
    }
   ],
   "source": [
    "Z[:10]"
   ]
  },
  {
   "cell_type": "code",
   "execution_count": 49,
   "metadata": {
    "id": "CBqTYO6udfKO",
    "outputId": "8e8e6a9d-f8fa-4c1a-ea3f-84a9bd859bed"
   },
   "outputs": [
    {
     "data": {
      "text/plain": "<Figure size 432x288 with 1 Axes>",
      "image/png": "[encoded data removed]"
     },
     "metadata": {
      "needs_background": "light"
     },
     "output_type": "display_data"
    }
   ],
   "source": [
    "plt.figure()\n",
    "y = iris.target\n",
    "for c, i in zip(\"rgb\", [0, 1, 2]):\n",
    "    plt.scatter(Z[y == i, 0], Z[y == i, 1], c=c)\n",
    "plt.xlabel('Главная компонента 1')\n",
    "plt.ylabel('Главная компонента 2')\n",
    "plt.title('PCA датасета IRIS')\n",
    "plt.show()"
   ]
  },
  {
   "cell_type": "code",
   "execution_count": 50,
   "outputs": [
    {
     "name": "stdout",
     "output_type": "stream",
     "text": [
      "1.0\n",
      "0.9555555555555556\n",
      "1.0\n",
      "0.9484126984126983\n"
     ]
    }
   ],
   "source": [
    "#Здесь сплитим другие выборки уже с отработанным самописным PCA с теми же параметрами что и без PCA выше\n",
    "X_train_pca, X_test_pca, y_train_pca, y_test_pca = train_test_split(Z, iris.target, test_size=0.3, random_state=42)\n",
    "#Обучаем новый KNN уже на PCA Данных\n",
    "KNN_pca = KNeighborsClassifier(n_neighbors=3)\n",
    "KNN_pca.fit(X_train_pca, y_train_pca)\n",
    "#И сразу выводим accuracy на тестах в том и другом случае\n",
    "print(KNN.score(X_test, y_test))\n",
    "print(KNN_pca.score(X_test_pca, y_test_pca))\n",
    "#Также f1 выведем, для этого сделаем предсказания для обеих моделей и посчитаем f1\n",
    "y_pred = KNN.predict(X_test)\n",
    "y_pred_pca = KNN_pca.predict(X_test_pca)\n",
    "print(f1_score(y_test, y_pred, average='macro'))\n",
    "print(f1_score(y_test_pca, y_pred_pca, average='macro'))"
   ],
   "metadata": {
    "collapsed": false,
    "pycharm": {
     "name": "#%%\n"
    }
   }
  },
  {
   "cell_type": "markdown",
   "metadata": {
    "id": "Y7P4Be8PdfKQ"
   },
   "source": [
    "Таким образом, мы перешли от четырехмерного пространства признаков к двумерному и при этом классы остались разделимы в пространстве, то есть классификация возможна."
   ]
  },
  {
   "cell_type": "markdown",
   "metadata": {},
   "source": [
    "## Домашнее задание<a class='anchor' id='hw'>"
   ]
  },
  {
   "cell_type": "markdown",
   "metadata": {},
   "source": [
    "1. Обучить любую модель классификации на датасете IRIS до применения самописного PCA (2 компоненты) и после него. Сравнить качество классификации по отложенной выборке.\n",
    "\n",
    "Провел обучение модели KNN с PCA и без PCA идет потеря в качестве 5%, при этом датасет уменьшили в 2 раза. Проверял по f1 и accuracy\n",
    "\n",
    "2. *Написать свою реализацию метода главных компонент с помощью сингулярного разложения с использованием функции [numpy.linalg.svd()](https://docs.scipy.org/doc/numpy/reference/generated/numpy.linalg.svd.html)"
   ]
  },
  {
   "cell_type": "code",
   "source": [
    "def pca_svd(data, n_component=2):\n",
    "    _, _, V_T = np.linalg.svd(data, full_matrices=True)\n",
    "    if n_component <= V_T.T.shape[1]:\n",
    "        return data @ V_T.T[:, :n_component]\n",
    "    else:\n",
    "        raise Exception(\"n_dimesions оf PCA(n_component) must be less or equal than data features\")\n",
    "\n",
    "Z_svd = pca_svd(standard_scale(iris.data))\n",
    "Z_svd\n",
    "#Ниже обучим и посчитаем метрики"
   ],
   "metadata": {
    "collapsed": false,
    "pycharm": {
     "name": "#%%\n"
    }
   },
   "execution_count": 53,
   "outputs": [
    {
     "data": {
      "text/plain": "array([[-2.26470281, -0.4800266 ],\n       [-2.08096115,  0.67413356],\n       [-2.36422905,  0.34190802],\n       [-2.29938422,  0.59739451],\n       [-2.38984217, -0.64683538],\n       [-2.07563095, -1.48917752],\n       [-2.44402884, -0.0476442 ],\n       [-2.23284716, -0.22314807],\n       [-2.33464048,  1.11532768],\n       [-2.18432817,  0.46901356],\n       [-2.1663101 , -1.04369065],\n       [-2.32613087, -0.13307834],\n       [-2.2184509 ,  0.72867617],\n       [-2.6331007 ,  0.96150673],\n       [-2.1987406 , -1.86005711],\n       [-2.26221453, -2.68628449],\n       [-2.2075877 , -1.48360936],\n       [-2.19034951, -0.48883832],\n       [-1.898572  , -1.40501879],\n       [-2.34336905, -1.12784938],\n       [-1.914323  , -0.40885571],\n       [-2.20701284, -0.92412143],\n       [-2.7743447 , -0.45834367],\n       [-1.81866953, -0.08555853],\n       [-2.22716331, -0.13725446],\n       [-1.95184633,  0.62561859],\n       [-2.05115137, -0.24216355],\n       [-2.16857717, -0.52714953],\n       [-2.13956345, -0.31321781],\n       [-2.26526149,  0.3377319 ],\n       [-2.14012214,  0.50454069],\n       [-1.83159477, -0.42369507],\n       [-2.61494794, -1.79357586],\n       [-2.44617739, -2.15072788],\n       [-2.10997488,  0.46020184],\n       [-2.2078089 ,  0.2061074 ],\n       [-2.04514621, -0.66155811],\n       [-2.52733191, -0.59229277],\n       [-2.42963258,  0.90418004],\n       [-2.16971071, -0.26887896],\n       [-2.28647514, -0.44171539],\n       [-1.85812246,  2.33741516],\n       [-2.5536384 ,  0.47910069],\n       [-1.96444768, -0.47232667],\n       [-2.13705901, -1.14222926],\n       [-2.0697443 ,  0.71105273],\n       [-2.38473317, -1.1204297 ],\n       [-2.39437631,  0.38624687],\n       [-2.22944655, -0.99795976],\n       [-2.20383344, -0.00921636],\n       [ 1.10178118, -0.86297242],\n       [ 0.73133743, -0.59461473],\n       [ 1.24097932, -0.61629765],\n       [ 0.40748306,  1.75440399],\n       [ 1.0754747 ,  0.20842105],\n       [ 0.38868734,  0.59328364],\n       [ 0.74652974, -0.77301931],\n       [-0.48732274,  1.85242909],\n       [ 0.92790164, -0.03222608],\n       [ 0.01142619,  1.03401828],\n       [-0.11019628,  2.65407282],\n       [ 0.44069345,  0.06329519],\n       [ 0.56210831,  1.76472438],\n       [ 0.71956189,  0.18622461],\n       [-0.0333547 ,  0.43900321],\n       [ 0.87540719, -0.50906396],\n       [ 0.35025167,  0.19631173],\n       [ 0.15881005,  0.79209574],\n       [ 1.22509363,  1.6222438 ],\n       [ 0.1649179 ,  1.30260923],\n       [ 0.73768265, -0.39657156],\n       [ 0.47628719,  0.41732028],\n       [ 1.2341781 ,  0.93332573],\n       [ 0.6328582 ,  0.41638772],\n       [ 0.70266118,  0.06341182],\n       [ 0.87427365, -0.25079339],\n       [ 1.25650912,  0.07725602],\n       [ 1.35840512, -0.33131168],\n       [ 0.66480037,  0.22592785],\n       [-0.04025861,  1.05871855],\n       [ 0.13079518,  1.56227183],\n       [ 0.02345269,  1.57247559],\n       [ 0.24153827,  0.77725638],\n       [ 1.06109461,  0.63384324],\n       [ 0.22397877,  0.28777351],\n       [ 0.42913912, -0.84558224],\n       [ 1.04872805, -0.5220518 ],\n       [ 1.04453138,  1.38298872],\n       [ 0.06958832,  0.21950333],\n       [ 0.28347724,  1.32932464],\n       [ 0.27907778,  1.12002852],\n       [ 0.62456979, -0.02492303],\n       [ 0.33653037,  0.98840402],\n       [-0.36218338,  2.01923787],\n       [ 0.28858624,  0.85573032],\n       [ 0.09136066,  0.18119213],\n       [ 0.22771687,  0.38492008],\n       [ 0.57638829,  0.1548736 ],\n       [-0.44766702,  1.54379203],\n       [ 0.25673059,  0.5988518 ],\n       [ 1.84456887, -0.87042131],\n       [ 1.15788161,  0.69886986],\n       [ 2.20526679, -0.56201048],\n       [ 1.44015066,  0.04698759],\n       [ 1.86781222, -0.29504482],\n       [ 2.75187334, -0.8004092 ],\n       [ 0.36701769,  1.56150289],\n       [ 2.30243944, -0.42006558],\n       [ 2.00668647,  0.71143865],\n       [ 2.25977735, -1.92101038],\n       [ 1.36417549, -0.69275645],\n       [ 1.60267867,  0.42170045],\n       [ 1.8839007 , -0.41924965],\n       [ 1.2601151 ,  1.16226042],\n       [ 1.4676452 ,  0.44227159],\n       [ 1.59007732, -0.67624481],\n       [ 1.47143146, -0.25562182],\n       [ 2.42632899, -2.55666125],\n       [ 3.31069558, -0.01778095],\n       [ 1.26376667,  1.70674538],\n       [ 2.0377163 , -0.91046741],\n       [ 0.97798073,  0.57176432],\n       [ 2.89765149, -0.41364106],\n       [ 1.33323218,  0.48181122],\n       [ 1.7007339 , -1.01392187],\n       [ 1.95432671, -1.0077776 ],\n       [ 1.17510363,  0.31639447],\n       [ 1.02095055, -0.06434603],\n       [ 1.78834992,  0.18736121],\n       [ 1.86364755, -0.56229073],\n       [ 2.43595373, -0.25928443],\n       [ 2.30492772, -2.62632347],\n       [ 1.86270322,  0.17854949],\n       [ 1.11414774,  0.29292262],\n       [ 1.2024733 ,  0.81131527],\n       [ 2.79877045, -0.85680333],\n       [ 1.57625591, -1.06858111],\n       [ 1.3462921 , -0.42243061],\n       [ 0.92482492, -0.0172231 ],\n       [ 1.85204505, -0.67612817],\n       [ 2.01481043, -0.61388564],\n       [ 1.90178409, -0.68957549],\n       [ 1.15788161,  0.69886986],\n       [ 2.04055823, -0.8675206 ],\n       [ 1.9981471 , -1.04916875],\n       [ 1.87050329, -0.38696608],\n       [ 1.56458048,  0.89668681],\n       [ 1.5211705 , -0.26906914],\n       [ 1.37278779, -1.01125442],\n       [ 0.96065603,  0.02433167]])"
     },
     "execution_count": 53,
     "metadata": {},
     "output_type": "execute_result"
    }
   ]
  },
  {
   "cell_type": "code",
   "execution_count": 54,
   "outputs": [
    {
     "name": "stdout",
     "output_type": "stream",
     "text": [
      "0.9555555555555556\n",
      "0.9484126984126983\n"
     ]
    }
   ],
   "source": [
    "X_train_pca, X_test_pca, y_train_pca, y_test_pca = train_test_split(Z_svd, iris.target, test_size=0.3, random_state=42)\n",
    "KNN_pca_svd = KNeighborsClassifier(n_neighbors=3)\n",
    "KNN_pca_svd.fit(X_train_pca, y_train_pca)\n",
    "y_pred_pca = KNN_pca_svd.predict(X_test_pca)\n",
    "print(KNN_pca_svd.score(X_test_pca, y_test_pca))\n",
    "print(f1_score(y_test_pca, y_pred_pca, average='macro'))"
   ],
   "metadata": {
    "collapsed": false,
    "pycharm": {
     "name": "#%%\n"
    }
   }
  },
  {
   "cell_type": "markdown",
   "source": [
    "Как видно из метрик они не отличаются от предыдущих, значит алгоритм работает верно\n"
   ],
   "metadata": {
    "collapsed": false
   }
  }
 ],
 "metadata": {
  "colab": {
   "collapsed_sections": [],
   "name": "Lesson_8.ipynb",
   "provenance": []
  },
  "kernelspec": {
   "display_name": "Python 3",
   "language": "python",
   "name": "python3"
  },
  "language_info": {
   "codemirror_mode": {
    "name": "ipython",
    "version": 3
   },
   "file_extension": ".py",
   "mimetype": "text/x-python",
   "name": "python",
   "nbconvert_exporter": "python",
   "pygments_lexer": "ipython3",
   "version": "3.8.10"
  }
 },
 "nbformat": 4,
 "nbformat_minor": 1
}