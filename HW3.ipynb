{
 "cells": [
  {
   "cell_type": "markdown",
   "source": [
    "## <center>Практическая часть<a class=\"anchor\" id=\"practice\"></a><center>"
   ],
   "metadata": {
    "collapsed": false
   }
  },
  {
   "cell_type": "code",
   "execution_count": 1,
   "outputs": [],
   "source": [
    "import numpy as np\n",
    "import matplotlib.pyplot as plt"
   ],
   "metadata": {
    "collapsed": false,
    "pycharm": {
     "name": "#%%\n"
    }
   }
  },
  {
   "cell_type": "code",
   "execution_count": 2,
   "outputs": [],
   "source": [
    "X = np.array([ [   1,    1,  500,    1],\n",
    "               [   1,    1,  700,    1],\n",
    "               [   1,    2,  750,    2],\n",
    "               [   1,    5,  600,    1],\n",
    "               [   1,    3, 1450,    2],\n",
    "               [   1,    0,  800,    1],\n",
    "               [   1,    5, 1500,    3],\n",
    "               [   1,   10, 2000,    3],\n",
    "               [   1,    1,  450,    1],\n",
    "               [   1,    2, 1000,    2]], dtype=np.float64)\n",
    "\n",
    "y = np.array([0, 0, 1, 0, 1, 0, 1, 0, 1, 1], dtype=np.float64)"
   ],
   "metadata": {
    "collapsed": false,
    "pycharm": {
     "name": "#%%\n"
    }
   }
  },
  {
   "cell_type": "code",
   "execution_count": 3,
   "outputs": [
    {
     "data": {
      "text/plain": "array([[1.00e+00, 1.00e+00, 5.00e+02, 1.00e+00],\n       [1.00e+00, 1.00e+00, 7.00e+02, 1.00e+00],\n       [1.00e+00, 2.00e+00, 7.50e+02, 2.00e+00],\n       [1.00e+00, 5.00e+00, 6.00e+02, 1.00e+00],\n       [1.00e+00, 3.00e+00, 1.45e+03, 2.00e+00],\n       [1.00e+00, 0.00e+00, 8.00e+02, 1.00e+00],\n       [1.00e+00, 5.00e+00, 1.50e+03, 3.00e+00],\n       [1.00e+00, 1.00e+01, 2.00e+03, 3.00e+00],\n       [1.00e+00, 1.00e+00, 4.50e+02, 1.00e+00],\n       [1.00e+00, 2.00e+00, 1.00e+03, 2.00e+00]])"
     },
     "execution_count": 3,
     "metadata": {},
     "output_type": "execute_result"
    }
   ],
   "source": [
    "X"
   ],
   "metadata": {
    "collapsed": false,
    "pycharm": {
     "name": "#%%\n"
    }
   }
  },
  {
   "cell_type": "code",
   "execution_count": 4,
   "outputs": [
    {
     "data": {
      "text/plain": "array([0., 0., 1., 0., 1., 0., 1., 0., 1., 1.])"
     },
     "execution_count": 4,
     "metadata": {},
     "output_type": "execute_result"
    }
   ],
   "source": [
    "y"
   ],
   "metadata": {
    "collapsed": false,
    "pycharm": {
     "name": "#%%\n"
    }
   }
  },
  {
   "cell_type": "code",
   "execution_count": 5,
   "outputs": [],
   "source": [
    "def standard_scale(x):\n",
    "    res = (x - x.mean()) / x.std()\n",
    "    return res"
   ],
   "metadata": {
    "collapsed": false,
    "pycharm": {
     "name": "#%%\n"
    }
   }
  },
  {
   "cell_type": "code",
   "execution_count": 6,
   "outputs": [],
   "source": [
    "X_st = X.copy()\n",
    "X_st[:, 2] = standard_scale(X[:, 2])"
   ],
   "metadata": {
    "collapsed": false,
    "pycharm": {
     "name": "#%%\n"
    }
   }
  },
  {
   "cell_type": "code",
   "execution_count": 7,
   "outputs": [
    {
     "data": {
      "text/plain": "array([[ 1.        ,  1.        , -0.97958969,  1.        ],\n       [ 1.        ,  1.        , -0.56713087,  1.        ],\n       [ 1.        ,  2.        , -0.46401617,  2.        ],\n       [ 1.        ,  5.        , -0.77336028,  1.        ],\n       [ 1.        ,  3.        ,  0.97958969,  2.        ],\n       [ 1.        ,  0.        , -0.36090146,  1.        ],\n       [ 1.        ,  5.        ,  1.08270439,  3.        ],\n       [ 1.        , 10.        ,  2.11385144,  3.        ],\n       [ 1.        ,  1.        , -1.08270439,  1.        ],\n       [ 1.        ,  2.        ,  0.05155735,  2.        ]])"
     },
     "execution_count": 7,
     "metadata": {},
     "output_type": "execute_result"
    }
   ],
   "source": [
    "X_st"
   ],
   "metadata": {
    "collapsed": false,
    "pycharm": {
     "name": "#%%\n"
    }
   }
  },
  {
   "cell_type": "markdown",
   "source": [
    "## Домашнее задание <a class='anchor' id='hw'>"
   ],
   "metadata": {
    "collapsed": false
   }
  },
  {
   "cell_type": "markdown",
   "source": [
    "1. *Измените функцию calc_logloss так, чтобы нули по возможности не попадали в np.log."
   ],
   "metadata": {
    "collapsed": false
   }
  },
  {
   "cell_type": "code",
   "execution_count": 8,
   "outputs": [],
   "source": [
    "#Добавлю к функции некоторую погрешность которая будет добавляться к нулю и вычитаться от одного соответственно в списке. Переменную погрешности зашью в функции\n",
    "def calc_logloss(y, y_pred):\n",
    "    eta = 1e-10\n",
    "    for i in range(len(y_pred)):\n",
    "        if y_pred[i] == 1:\n",
    "            y_pred[i] -= eta\n",
    "        elif y_pred[i] == 0:\n",
    "            y_pred[i] += eta\n",
    "    err = - np.mean(y * np.log(y_pred) + (1.0 - y) * np.log(1.0 - y_pred))\n",
    "    return err"
   ],
   "metadata": {
    "collapsed": false,
    "pycharm": {
     "name": "#%%\n"
    }
   }
  },
  {
   "cell_type": "code",
   "execution_count": 9,
   "outputs": [
    {
     "data": {
      "text/plain": "0.164252033486018"
     },
     "execution_count": 9,
     "metadata": {},
     "output_type": "execute_result"
    }
   ],
   "source": [
    "# Пример применения\n",
    "y1 = np.array([1, 0])\n",
    "y_pred1 = np.array([0.8, 0.1])\n",
    "calc_logloss(y1, y_pred1)"
   ],
   "metadata": {
    "collapsed": false,
    "pycharm": {
     "name": "#%%\n"
    }
   }
  },
  {
   "cell_type": "code",
   "execution_count": 10,
   "outputs": [
    {
     "data": {
      "text/plain": "0.052680257878913145"
     },
     "execution_count": 10,
     "metadata": {},
     "output_type": "execute_result"
    }
   ],
   "source": [
    "# Плохой пример применения\n",
    "y1 = np.array([1, 0])\n",
    "y_pred1 = np.array([0.9, 0])\n",
    "calc_logloss(y1, y_pred1)"
   ],
   "metadata": {
    "collapsed": false,
    "pycharm": {
     "name": "#%%\n"
    }
   }
  },
  {
   "cell_type": "code",
   "execution_count": 11,
   "outputs": [],
   "source": [
    "def sigmoid(z):\n",
    "    res = 1 / (1 + np.exp(-z))\n",
    "    return res"
   ],
   "metadata": {
    "collapsed": false,
    "pycharm": {
     "name": "#%%\n"
    }
   }
  },
  {
   "cell_type": "code",
   "execution_count": 12,
   "outputs": [],
   "source": [
    "z = np.linspace(-10, 10, 101)"
   ],
   "metadata": {
    "collapsed": false,
    "pycharm": {
     "name": "#%%\n"
    }
   }
  },
  {
   "cell_type": "code",
   "execution_count": 13,
   "outputs": [],
   "source": [
    "probabilities = sigmoid(z)"
   ],
   "metadata": {
    "collapsed": false,
    "pycharm": {
     "name": "#%%\n"
    }
   }
  },
  {
   "cell_type": "code",
   "execution_count": 14,
   "outputs": [
    {
     "data": {
      "text/plain": "<Figure size 432x288 with 1 Axes>",
      "image/png": "[encoded data removed]"
     },
     "metadata": {
      "needs_background": "light"
     },
     "output_type": "display_data"
    }
   ],
   "source": [
    "plt.plot(z, probabilities)\n",
    "plt.show()"
   ],
   "metadata": {
    "collapsed": false,
    "pycharm": {
     "name": "#%%\n"
    }
   }
  },
  {
   "cell_type": "markdown",
   "source": [
    "Logistic Regression"
   ],
   "metadata": {
    "collapsed": false
   }
  },
  {
   "cell_type": "code",
   "execution_count": 15,
   "outputs": [],
   "source": [
    "def eval_model(X, y, iterations, eta=1e-4):\n",
    "    np.random.seed(42)\n",
    "    W = np.random.randn(X.shape[1])\n",
    "    n = X.shape[0]\n",
    "    \n",
    "    for i in range(iterations):\n",
    "        z = np.dot(X, W)\n",
    "        y_pred = sigmoid(z)\n",
    "        err = calc_logloss(y, y_pred)\n",
    "        \n",
    "        dQ = 1/n * X.T @ (y_pred - y)\n",
    "        W -= eta * dQ\n",
    "        if i % (iterations / 10) == 0:\n",
    "            print(i, W, err)\n",
    "    return W"
   ],
   "metadata": {
    "collapsed": false,
    "pycharm": {
     "name": "#%%\n"
    }
   }
  },
  {
   "cell_type": "markdown",
   "source": [
    "2. Подберите аргументы функции eval_model для логистической регрессии таким образом, чтобы log loss был минимальным."
   ],
   "metadata": {
    "collapsed": false
   }
  },
  {
   "cell_type": "code",
   "execution_count": 16,
   "outputs": [
    {
     "name": "stdout",
     "output_type": "stream",
     "text": [
      "0 [ -371.30243002 -1421.9967344    -26.18512172  -553.3003134 ] 1.1785958344356262\n",
      "50 [-1653.51322184 -2124.42674461  1043.72687554  3252.26968225] 39.749726526954404\n",
      "100 [-3098.87347255 -1021.91353918   256.66428164  4256.88131228] 33.94100176010607\n",
      "150 [-4654.63613479 -1979.80373549  -551.94805604  4380.53463429] 6.907755254220028\n",
      "200 [-5553.59519285  -918.26637948  -944.31726966  4952.07199255] 4.696660006687695\n",
      "250 [-6138.98869163  -843.75414367 -1353.89721336  5286.11487819] 4.605170169500019\n",
      "300 [-6165.35715168  -870.12260502 -1577.97898946  5259.74641986] 2.3025850847900093\n",
      "350 [-6202.92493207  -849.27807165 -1557.91442864  5398.38479899] 7.00004942934568e-11\n",
      "400 [-6202.92493158  -849.27807361 -1557.91442822  5398.38480095] 7.00004942934568e-11\n",
      "450 [-6202.92493109  -849.27807557 -1557.91442779  5398.38480291] 7.00004942934568e-11\n"
     ]
    },
    {
     "name": "stderr",
     "output_type": "stream",
     "text": [
      "C:\\Users\\nikit\\AppData\\Local\\Temp/ipykernel_14148/1761986473.py:2: RuntimeWarning: overflow encountered in exp\n",
      "  res = 1 / (1 + np.exp(-z))\n"
     ]
    }
   ],
   "source": [
    "#Показалось непростым подобрать т.к при малых значениях logloss скатывается, а при больших падает в -11 степень что судя по всему и есть оптимал\n",
    "W = eval_model(X_st, y, iterations=500, eta=980)\n"
   ],
   "metadata": {
    "collapsed": false,
    "pycharm": {
     "name": "#%%\n"
    }
   }
  },
  {
   "cell_type": "markdown",
   "source": [
    "3. Создайте функцию calc_pred_proba, возвращающую предсказанную вероятность класса 1 (на вход подаются W, который уже посчитан функцией eval_model и X, на выходе - массив y_pred_proba)."
   ],
   "metadata": {
    "collapsed": false
   }
  },
  {
   "cell_type": "code",
   "execution_count": 17,
   "outputs": [
    {
     "name": "stdout",
     "output_type": "stream",
     "text": [
      "[3.46763212e-056 0.00000000e+000 1.00000000e+000 0.00000000e+000\n",
      " 1.00000000e+000 5.97445282e-106 1.00000000e+000 0.00000000e+000\n",
      " 1.00000000e+000 1.00000000e+000]\n"
     ]
    },
    {
     "name": "stderr",
     "output_type": "stream",
     "text": [
      "C:\\Users\\nikit\\AppData\\Local\\Temp/ipykernel_14148/1761986473.py:2: RuntimeWarning: overflow encountered in exp\n",
      "  res = 1 / (1 + np.exp(-z))\n"
     ]
    }
   ],
   "source": [
    "def calc_pred_proba(w, X):\n",
    "\n",
    "    y_pred_proba = sigmoid(np.dot(X, w))\n",
    "    return y_pred_proba\n",
    "\n",
    "print(calc_pred_proba(W, X_st))"
   ],
   "metadata": {
    "collapsed": false,
    "pycharm": {
     "name": "#%%\n"
    }
   }
  },
  {
   "cell_type": "markdown",
   "source": [
    "4. Создайте функцию calc_pred, возвращающую предсказанный класс (на вход подаются W, который уже посчитан функцией eval_model и X, на выходе - массив y_pred)."
   ],
   "metadata": {
    "collapsed": false
   }
  },
  {
   "cell_type": "code",
   "execution_count": 18,
   "outputs": [
    {
     "name": "stdout",
     "output_type": "stream",
     "text": [
      "[0. 0. 1. 0. 1. 0. 1. 0. 1. 1.]\n"
     ]
    },
    {
     "name": "stderr",
     "output_type": "stream",
     "text": [
      "C:\\Users\\nikit\\AppData\\Local\\Temp/ipykernel_14148/1761986473.py:2: RuntimeWarning: overflow encountered in exp\n",
      "  res = 1 / (1 + np.exp(-z))\n"
     ]
    }
   ],
   "source": [
    "def calc_pred(w, X):\n",
    "\n",
    "    m = X.shape[0]\n",
    "    y_pred = np.zeros(m)\n",
    "    A = sigmoid(np.dot(X, w))\n",
    "    # За порог отнесения к тому или иному классу примем вероятность 0.5\n",
    "    for i in range(A.shape[0]):\n",
    "        if (A[i] > 0.5):\n",
    "            y_pred[i] = 1\n",
    "        elif (A[i] <= 0.5):\n",
    "            y_pred[i] = 0\n",
    "    return y_pred\n",
    "\n",
    "print(calc_pred(W, X_st))"
   ],
   "metadata": {
    "collapsed": false,
    "pycharm": {
     "name": "#%%\n"
    }
   }
  },
  {
   "cell_type": "markdown",
   "source": [
    "5. *Реализуйте функции для подсчета Accuracy, матрицы ошибок, точности и полноты, а также F1 score."
   ],
   "metadata": {
    "collapsed": false,
    "pycharm": {
     "name": "#%% md\n"
    }
   }
  },
  {
   "cell_type": "code",
   "execution_count": 22,
   "outputs": [
    {
     "name": "stdout",
     "output_type": "stream",
     "text": [
      "0.9\n",
      "[[5 0]\n",
      " [1 4]]\n",
      "(1.0, 0.8333333333333334, 0.9090909090909091)\n"
     ]
    },
    {
     "name": "stderr",
     "output_type": "stream",
     "text": [
      "C:\\Users\\nikit\\AppData\\Local\\Temp/ipykernel_14148/1761986473.py:2: RuntimeWarning: overflow encountered in exp\n",
      "  res = 1 / (1 + np.exp(-z))\n"
     ]
    }
   ],
   "source": [
    "#Сначала делаю функцию для Accuracy, потом матрицу ошибок и через нее все остальные метрики\n",
    "def accuracy(y, y_pred):\n",
    "    true_answ = 0\n",
    "    if len(y) == len(y_pred):\n",
    "        for i in range(len(y)):\n",
    "            if y[i] == y_pred[i]:\n",
    "                true_answ += 1\n",
    "        return true_answ/len(y)\n",
    "    else:\n",
    "        print(\"y length is different from y_pred length. Calculate of metrics is impossible\")\n",
    "\n",
    "def err_matrix(y, y_pred):\n",
    "    tp, tn, fp, fn = 0, 0, 0, 0\n",
    "    if len(y) == len(y_pred):\n",
    "        for i in range(len(y)):\n",
    "            if y[i] == 1 and y_pred[i] == 1:\n",
    "                tp += 1\n",
    "            elif y[i] == 1 and y_pred[i] == 0:\n",
    "                fn += 1\n",
    "            elif y[i] == 0 and y_pred[i] == 0:\n",
    "                tn += 1\n",
    "            elif y[i] == 0 and y_pred[i] == 1:\n",
    "                fp += 1\n",
    "        return np.array([[tp, fp], [fn, tn]])\n",
    "    else:\n",
    "        print(\"y length is different from y_pred length. Calculate of metrics is impossible\")\n",
    "\n",
    "\n",
    "def calc_metrics(err_matrix:np.array):\n",
    "    precision = err_matrix[0, 0]/np.sum(err_matrix[0])\n",
    "    recall = err_matrix[0, 0]/np.sum(err_matrix[:, 0])\n",
    "    f1 = 2* precision * recall/(precision+recall)\n",
    "    return precision, recall, f1\n",
    "\n",
    "#Сделал копию вектора numpy, изменив в нем первый элемент на еденицу для проверки\n",
    "y_tt = np.array([1, 0, 1, 0, 1, 0, 1, 0, 1, 1], dtype=np.float64)\n",
    "print(accuracy(y_tt ,calc_pred(W, X_st)))\n",
    "print(err_matrix(y_tt ,calc_pred(W, X_st)))\n",
    "print(calc_metrics(err_matrix(y_tt ,calc_pred(W, X_st))))\n",
    "#ex = np.array([[1, 2], [3, 4]])\n",
    "#print(np.sum(ex[:, 0]))"
   ],
   "metadata": {
    "collapsed": false,
    "pycharm": {
     "name": "#%%\n"
    }
   }
  },
  {
   "cell_type": "markdown",
   "source": [
    "6. Могла ли модель переобучиться? Почему?<br>\n",
    "\n",
    "Да могла. Т.к модель обучается на определенном расположении данных на трейне (в отношении признак и конечное предсказание класса), на боевых и тестовых данных будут другие наборы данных. Соответственно если модель переобучена (иначе говоря слишком точно повторяет треничровочные данные) ее работа будет некорректна на новых данных"
   ],
   "metadata": {
    "collapsed": false,
    "pycharm": {
     "name": "#%% md\n"
    }
   }
  }
 ],
 "metadata": {
  "colab": {
   "collapsed_sections": [],
   "name": "Lesson_3.ipynb",
   "provenance": []
  },
  "kernelspec": {
   "display_name": "Python 3",
   "language": "python",
   "name": "python3"
  },
  "language_info": {
   "codemirror_mode": {
    "name": "ipython",
    "version": 3
   },
   "file_extension": ".py",
   "mimetype": "text/x-python",
   "name": "python",
   "nbconvert_exporter": "python",
   "pygments_lexer": "ipython3",
   "version": "3.8.10"
  }
 },
 "nbformat": 4,
 "nbformat_minor": 1
}